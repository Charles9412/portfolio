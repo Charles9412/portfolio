{
  "cells": [
    {
      "cell_type": "markdown",
      "metadata": {
        "id": "vJIAHEtS28GJ"
      },
      "source": [
        "# Predicting Overall Score for Fifa Players using Support Vector Machines\n",
        "A friend of mine asked me to do this. My thesis is about SVM implementations so of course I'd do a basic SVM implementation using sklearn's SVC. I made some preprocessing in R to get only numeric columns and tidy up the data.\n",
        "\n",
        "⚠️ Note: This notebook relies on a dataset that is no longer available. Do not re-run unless you provide your own dataset."
      ]
    },
    {
      "cell_type": "code",
      "execution_count": null,
      "metadata": {
        "id": "HE0j-0fj28GK"
      },
      "outputs": [],
      "source": [
        "# Imports\n",
        "from sklearn import datasets, metrics\n",
        "from sklearn.svm import SVC\n",
        "import pandas as pd\n",
        "from sklearn.model_selection import train_test_split\n",
        "import numpy as np\n",
        "from sklearn.preprocessing import StandardScaler\n",
        "from sklearn.pipeline import make_pipeline"
      ]
    },
    {
      "cell_type": "code",
      "execution_count": null,
      "metadata": {
        "id": "G3v23BjZ28GK"
      },
      "outputs": [],
      "source": [
        "# This already contains only numeric columns\n",
        "df = pd.read_csv(\"data/path\")\n",
        "# This is the full dataset\n",
        "df_full = pd.read_csv(\"data/path\")\n",
        "\n",
        "df.apply(pd.to_numeric, errors='ignore')\n",
        "scaler = StandardScaler()\n",
        "cols = df.columns\n",
        "\n",
        "X = df.drop(columns = \"overall\")\n",
        "y = df[\"overall\"]"
      ]
    },
    {
      "cell_type": "code",
      "execution_count": null,
      "metadata": {
        "id": "o0UoM6l_28GK",
        "outputId": "17c003a6-1c47-415c-b208-c794e21dfb7e"
      },
      "outputs": [
        {
          "name": "stdout",
          "output_type": "stream",
          "text": [
            "MinPred:  47 MaxPred:  90\n",
            "MSE:  4.126946423858538\n",
            "R^2:  0.9130695927051868\n"
          ]
        }
      ],
      "source": [
        "X_train, X_test, y_train, y_test = train_test_split(X, y.values, train_size = 0.8, random_state = 1)\n",
        "\n",
        "svm_model = SVR(kernel = \"poly\", degree = 3, epsilon = 0.3)\n",
        "#svm_model = make_pipeline(StandardScaler(), SVC(kernel = \"poly\", degree = 3 ))\n",
        "                                                #epsilon = 0.2, gamma = \"scale\"))\n",
        "svm_model.fit(X_train, y_train)\n",
        "\n",
        "#svm_model.fit(X_train, y_train)\n",
        "\n",
        "y_pred = svm_model.predict(X_test)\n",
        "print(\"MinPred: \", min(y_pred), \"MaxPred: \", max(y_pred))\n",
        "\n",
        "print(\"MSE: \", metrics.mean_squared_error(y_test, y_pred))\n",
        "print(\"R^2: \", metrics.r2_score(y_test, y_pred))"
      ]
    },
    {
      "cell_type": "markdown",
      "metadata": {
        "id": "YHZiktLz28GL"
      },
      "source": [
        "To be honest, this doesn't tell me how good are the predictions we're getting. Let's inspect some players to get an idea of how good this model performs."
      ]
    },
    {
      "cell_type": "code",
      "execution_count": null,
      "metadata": {
        "id": "LixJlAEo28GL",
        "outputId": "63f866f1-9eda-428d-8eab-f52e67da744f"
      },
      "outputs": [
        {
          "name": "stdout",
          "output_type": "stream",
          "text": [
            "sofifa_id                                                158023\n",
            "player_url    https://sofifa.com/player/158023/lionel-messi/...\n",
            "short_name                                             L. Messi\n",
            "long_name                        Lionel Andrés Messi Cuccittini\n",
            "age                                                          33\n",
            "                                    ...                        \n",
            "lb                                                         62+3\n",
            "lcb                                                        52+3\n",
            "cb                                                         52+3\n",
            "rcb                                                        52+3\n",
            "rb                                                         62+3\n",
            "Name: 0, Length: 106, dtype: object\n"
          ]
        }
      ],
      "source": [
        "# Messi has index 0\n",
        "print(df_full.iloc[0])"
      ]
    },
    {
      "cell_type": "markdown",
      "metadata": {
        "id": "chL603q028GL"
      },
      "source": [
        "Lets make a prediction on Messi's stats and compare it to the real overall."
      ]
    },
    {
      "cell_type": "code",
      "execution_count": null,
      "metadata": {
        "id": "289Sm-cO28GL",
        "outputId": "830ccf48-238c-4f73-9ef1-feef992331ca"
      },
      "outputs": [
        {
          "name": "stdout",
          "output_type": "stream",
          "text": [
            "Messi's overall:  93\n",
            "Messi's overall:  93\n"
          ]
        },
        {
          "name": "stderr",
          "output_type": "stream",
          "text": [
            "C:\\Users\\carlo\\AppData\\Local\\Packages\\PythonSoftwareFoundation.Python.3.10_qbz5n2kfra8p0\\LocalCache\\local-packages\\Python310\\site-packages\\sklearn\\base.py:439: UserWarning: X does not have valid feature names, but StandardScaler was fitted with feature names\n",
            "  warnings.warn(\n"
          ]
        }
      ],
      "source": [
        "print(\"Messi's overall: \", df.iloc[0].overall)\n",
        "#print(\"Messi's overall prediction: \", svm_model.predict(X.iloc[0]))\n",
        "messi = X.iloc[0].drop(columns='overall')\n",
        "messi = messi.values.reshape(1, -1)\n",
        "\n",
        "messi_pred = svm_model.predict(messi)\n",
        "print(\"Messi's predicted overall: \", *messi_pred)"
      ]
    },
    {
      "cell_type": "markdown",
      "metadata": {
        "id": "GPvnzOA728GM"
      },
      "source": [
        "Our prediction for Messi is spot on. That's great news! What about a mid overall player and a end of the tail player?"
      ]
    },
    {
      "cell_type": "code",
      "execution_count": null,
      "metadata": {
        "id": "zGGqr70o28GM",
        "outputId": "bba9df35-ee03-4d08-a2b0-380bd09db19d"
      },
      "outputs": [
        {
          "name": "stdout",
          "output_type": "stream",
          "text": [
            "        short_name  overall\n",
            "18943     Song Yue       47\n",
            "18928  V. Da Silva       47\n",
            "18929     B. Hough       47\n",
            "18930  R. McKinley       47\n",
            "18931    M. Flores       47\n"
          ]
        }
      ],
      "source": [
        "# Let's do worst player first\n",
        "print(df_full[['short_name', 'overall']].sort_values(by=['overall'], ascending=True).head(5))"
      ]
    },
    {
      "cell_type": "code",
      "execution_count": null,
      "metadata": {
        "id": "sWZA1RTr28GM",
        "outputId": "d6a65c49-86d2-4070-aa00-3ce105e64421"
      },
      "outputs": [
        {
          "name": "stdout",
          "output_type": "stream",
          "text": [
            "sofifa_id                                               257936\n",
            "player_url    https://sofifa.com/player/257936/yue-song/210002\n",
            "short_name                                            Song Yue\n",
            "long_name                                             Yue Song\n",
            "age                                                         28\n",
            "                                    ...                       \n",
            "lb                                                        47+0\n",
            "lcb                                                       46+1\n",
            "cb                                                        46+1\n",
            "rcb                                                       46+1\n",
            "rb                                                        47+0\n",
            "Name: 18943, Length: 106, dtype: object\n"
          ]
        }
      ],
      "source": [
        "# Lets do Song Yue, index 18943\n",
        "print(df_full.iloc[18943])"
      ]
    },
    {
      "cell_type": "code",
      "execution_count": null,
      "metadata": {
        "id": "nQB5L1Ar28GM",
        "outputId": "b9a40a69-8d9b-4e4a-ff9c-08e7ac9cbac5"
      },
      "outputs": [
        {
          "name": "stdout",
          "output_type": "stream",
          "text": [
            "Song Yue overall:  47\n",
            "[False False False False False False False False False False False False\n",
            " False False False]\n",
            "Song Yue predicted overall:  47\n"
          ]
        },
        {
          "name": "stderr",
          "output_type": "stream",
          "text": [
            "C:\\Users\\carlo\\AppData\\Local\\Packages\\PythonSoftwareFoundation.Python.3.10_qbz5n2kfra8p0\\LocalCache\\local-packages\\Python310\\site-packages\\sklearn\\base.py:439: UserWarning: X does not have valid feature names, but StandardScaler was fitted with feature names\n",
            "  warnings.warn(\n"
          ]
        }
      ],
      "source": [
        "print(\"Song Yue overall: \", df.iloc[18943].overall)\n",
        "yue = X.iloc[18943].drop(columns='overall')\n",
        "yue = yue.values.reshape(1, -1)\n",
        "\n",
        "yue_pred = svm_model.predict(yue)\n",
        "print(\"Song Yue predicted overall: \", *yue_pred)"
      ]
    },
    {
      "cell_type": "markdown",
      "metadata": {
        "id": "-Al-OIKy28GM"
      },
      "source": [
        "The prediction is spot on again. Let's test for an average overall player and then test only on indexes that are not in the trainset."
      ]
    },
    {
      "cell_type": "code",
      "execution_count": null,
      "metadata": {
        "id": "pGSxOB3i28GM",
        "outputId": "3ff7626a-bdc3-4e88-b570-ccd75b021b14"
      },
      "outputs": [
        {
          "name": "stdout",
          "output_type": "stream",
          "text": [
            "65.67778716216216\n",
            "         short_name  overall\n",
            "8426    S. Esposito       66\n",
            "8427     A. Vranckx       66\n",
            "8428     T. Lamptey       66\n",
            "8429  Félix Correia       66\n",
            "8430     C. Olivera       66\n"
          ]
        }
      ],
      "source": [
        "print(df_full['overall'].mean())\n",
        "avg_players = df_full[df_full['overall'] == 66]\n",
        "print(avg_players[['short_name', 'overall']].head(5))"
      ]
    },
    {
      "cell_type": "code",
      "execution_count": null,
      "metadata": {
        "id": "C-46EYL728GM",
        "outputId": "fb891f89-395d-43fc-e00b-5bcf45f0be16"
      },
      "outputs": [
        {
          "name": "stdout",
          "output_type": "stream",
          "text": [
            "S. Esposito overall:  66\n",
            "S. Esposito predicted overall:  68\n"
          ]
        },
        {
          "name": "stderr",
          "output_type": "stream",
          "text": [
            "C:\\Users\\carlo\\AppData\\Local\\Packages\\PythonSoftwareFoundation.Python.3.10_qbz5n2kfra8p0\\LocalCache\\local-packages\\Python310\\site-packages\\sklearn\\base.py:439: UserWarning: X does not have valid feature names, but StandardScaler was fitted with feature names\n",
            "  warnings.warn(\n"
          ]
        }
      ],
      "source": [
        "# Let's do Esposito, index 8426\n",
        "print(\"S. Esposito overall: \", df.iloc[8426].overall)\n",
        "esposito = X.iloc[8426].drop(columns='overall')\n",
        "esposito = esposito.values.reshape(1, -1)\n",
        "\n",
        "esposito_pred = svm_model.predict(esposito)\n",
        "print(\"S. Esposito predicted overall: \", *esposito_pred)"
      ]
    },
    {
      "cell_type": "code",
      "execution_count": null,
      "metadata": {
        "id": "x4rt42eQ28GM",
        "outputId": "90837404-125b-4a41-9136-41d6d391535d"
      },
      "outputs": [
        {
          "name": "stdout",
          "output_type": "stream",
          "text": [
            "       age  height_cm  weight_kg  potential  wage_eur  pace  shooting   \n",
            "18650   20        182         69         61      2000    68        39  \\\n",
            "3833    20        185         85         82     13000    81        68   \n",
            "11148   25        191         83         71      2000    43        37   \n",
            "554     25        180         73         82     42000    73        75   \n",
            "\n",
            "       passing  dribbling  defending  physic  attacking_crossing   \n",
            "18650       45         50         45      52                  36  \\\n",
            "3833        65         74         32      73                  69   \n",
            "11148       44         43         64      73                  32   \n",
            "554         79         78         72      78                  77   \n",
            "\n",
            "       attacking_finishing  attacking_heading_accuracy   \n",
            "18650                   38                          46  \\\n",
            "3833                    68                          63   \n",
            "11148                   26                          65   \n",
            "554                     75                          69   \n",
            "\n",
            "       attacking_short_passing  \n",
            "18650                       55  \n",
            "3833                        68  \n",
            "11148                       59  \n",
            "554                         81  \n",
            "      short_name  overall\n",
            "18650  He Yupeng       51\n",
            "3833   N. Okafor       71\n",
            "554    M. Sanson       79\n"
          ]
        }
      ],
      "source": [
        "# Let's do for 3 more players from the testset and call it a day.\n",
        "print(X_test.head(4))\n",
        "print(df_full[['short_name', 'overall']].iloc[[18650, 3833, 554]])"
      ]
    },
    {
      "cell_type": "code",
      "execution_count": null,
      "metadata": {
        "id": "b__hyWc728GM",
        "outputId": "49343cec-b400-486f-be03-24e8d65dd3c2"
      },
      "outputs": [
        {
          "name": "stdout",
          "output_type": "stream",
          "text": [
            "[51 72 79]\n"
          ]
        }
      ],
      "source": [
        "print(svm_model.predict(X.iloc[[18650, 3833, 554]]))"
      ]
    },
    {
      "cell_type": "markdown",
      "metadata": {
        "id": "ZCXepDqI28GN"
      },
      "source": [
        "I'm already convinced that this model works pretty well, but if you're not convinced, take a look at MSE and $R^2$ scores again:"
      ]
    },
    {
      "cell_type": "code",
      "execution_count": null,
      "metadata": {
        "id": "28WEuPt928GN",
        "outputId": "729f4846-8514-43fe-ffb8-bad6e868a29e"
      },
      "outputs": [
        {
          "name": "stdout",
          "output_type": "stream",
          "text": [
            "MSE:  4.126946423858538\n",
            "R^2:  0.9130695927051868\n"
          ]
        }
      ],
      "source": [
        "print(\"MSE: \", metrics.mean_squared_error(y_test, y_pred))\n",
        "print(\"R^2: \", metrics.r2_score(y_test, y_pred))"
      ]
    }
  ],
  "metadata": {
    "kernelspec": {
      "display_name": "Python 3",
      "language": "python",
      "name": "python3"
    },
    "language_info": {
      "codemirror_mode": {
        "name": "ipython",
        "version": 3
      },
      "file_extension": ".py",
      "mimetype": "text/x-python",
      "name": "python",
      "nbconvert_exporter": "python",
      "pygments_lexer": "ipython3",
      "version": "3.10.11"
    },
    "colab": {
      "provenance": []
    }
  },
  "nbformat": 4,
  "nbformat_minor": 0
}