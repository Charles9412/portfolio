{
  "cells": [
    {
      "cell_type": "markdown",
      "metadata": {
        "id": "X6KA8RGi0Fhp"
      },
      "source": [
        "# Multinomial Logistic Regression for Classification problems\n",
        "For my statistics class we were instructed to do logistic multinomial regression for a classification problem involving liver enzimes. I did this in python and R. This is the R version.\n",
        "\n",
        "⚠️ Note: This notebook relies on a dataset that is no longer available. Do not re-run unless you provide your own dataset."
      ]
    },
    {
      "cell_type": "code",
      "execution_count": null,
      "metadata": {
        "vscode": {
          "languageId": "r"
        },
        "id": "Q5qKUuZ10Fhq"
      },
      "outputs": [],
      "source": [
        "library(tidyverse)\n",
        "library(readxl)\n",
        "library(GGally)"
      ]
    },
    {
      "cell_type": "code",
      "execution_count": null,
      "metadata": {
        "vscode": {
          "languageId": "r"
        },
        "id": "vp_0Wkoc0Fhq",
        "outputId": "63a7d326-fc86-4840-a7d5-3d49f818fc09"
      },
      "outputs": [
        {
          "data": {
            "text/html": [
              "<table class=\"dataframe\">\n",
              "<caption>A tibble: 6 × 6</caption>\n",
              "<thead>\n",
              "\t<tr><th scope=col>Paciente</th><th scope=col>Grupo</th><th scope=col>AST</th><th scope=col>ALT</th><th scope=col>GLDH</th><th scope=col>OCT</th></tr>\n",
              "\t<tr><th scope=col>&lt;dbl&gt;</th><th scope=col>&lt;dbl&gt;</th><th scope=col>&lt;dbl&gt;</th><th scope=col>&lt;dbl&gt;</th><th scope=col>&lt;dbl&gt;</th><th scope=col>&lt;dbl&gt;</th></tr>\n",
              "</thead>\n",
              "<tbody>\n",
              "\t<tr><td>1</td><td>1</td><td>236</td><td>582</td><td>10</td><td>457</td></tr>\n",
              "\t<tr><td>2</td><td>1</td><td> 65</td><td>258</td><td>20</td><td>242</td></tr>\n",
              "\t<tr><td>3</td><td>1</td><td> 59</td><td>244</td><td>16</td><td>236</td></tr>\n",
              "\t<tr><td>4</td><td>1</td><td> 92</td><td>120</td><td> 6</td><td>205</td></tr>\n",
              "\t<tr><td>5</td><td>1</td><td> 99</td><td>352</td><td>13</td><td>315</td></tr>\n",
              "\t<tr><td>6</td><td>1</td><td> 87</td><td>380</td><td> 7</td><td> 92</td></tr>\n",
              "</tbody>\n",
              "</table>\n"
            ],
            "text/latex": [
              "A tibble: 6 × 6\n",
              "\\begin{tabular}{llllll}\n",
              " Paciente & Grupo & AST & ALT & GLDH & OCT\\\\\n",
              " <dbl> & <dbl> & <dbl> & <dbl> & <dbl> & <dbl>\\\\\n",
              "\\hline\n",
              "\t 1 & 1 & 236 & 582 & 10 & 457\\\\\n",
              "\t 2 & 1 &  65 & 258 & 20 & 242\\\\\n",
              "\t 3 & 1 &  59 & 244 & 16 & 236\\\\\n",
              "\t 4 & 1 &  92 & 120 &  6 & 205\\\\\n",
              "\t 5 & 1 &  99 & 352 & 13 & 315\\\\\n",
              "\t 6 & 1 &  87 & 380 &  7 &  92\\\\\n",
              "\\end{tabular}\n"
            ],
            "text/markdown": [
              "\n",
              "A tibble: 6 × 6\n",
              "\n",
              "| Paciente &lt;dbl&gt; | Grupo &lt;dbl&gt; | AST &lt;dbl&gt; | ALT &lt;dbl&gt; | GLDH &lt;dbl&gt; | OCT &lt;dbl&gt; |\n",
              "|---|---|---|---|---|---|\n",
              "| 1 | 1 | 236 | 582 | 10 | 457 |\n",
              "| 2 | 1 |  65 | 258 | 20 | 242 |\n",
              "| 3 | 1 |  59 | 244 | 16 | 236 |\n",
              "| 4 | 1 |  92 | 120 |  6 | 205 |\n",
              "| 5 | 1 |  99 | 352 | 13 | 315 |\n",
              "| 6 | 1 |  87 | 380 |  7 |  92 |\n",
              "\n"
            ],
            "text/plain": [
              "  Paciente Grupo AST ALT GLDH OCT\n",
              "1 1        1     236 582 10   457\n",
              "2 2        1      65 258 20   242\n",
              "3 3        1      59 244 16   236\n",
              "4 4        1      92 120  6   205\n",
              "5 5        1      99 352 13   315\n",
              "6 6        1      87 380  7    92"
            ]
          },
          "metadata": {},
          "output_type": "display_data"
        },
        {
          "name": "stdout",
          "output_type": "stream",
          "text": [
            "tibble [218 × 6] (S3: tbl_df/tbl/data.frame)\n",
            " $ Paciente: num [1:218] 1 2 3 4 5 6 7 8 9 10 ...\n",
            " $ Grupo   : num [1:218] 1 1 1 1 1 1 1 1 1 1 ...\n",
            " $ AST     : num [1:218] 236 65 59 92 99 87 202 208 105 95 ...\n",
            " $ ALT     : num [1:218] 582 258 244 120 352 380 429 539 465 442 ...\n",
            " $ GLDH    : num [1:218] 10 20 16 6 13 7 15 14 4 13 ...\n",
            " $ OCT     : num [1:218] 457 242 236 205 315 92 715 480 58 229 ...\n"
          ]
        }
      ],
      "source": [
        "# Read data, display head and structure\n",
        "data <- read_excel(\"C:/Users/carlo/Downloads/logmult.xls\", sheet = 'Data')\n",
        "\n",
        "head(data)\n",
        "str(data)"
      ]
    },
    {
      "cell_type": "markdown",
      "metadata": {
        "id": "3wSD0qTB0Fhr"
      },
      "source": [
        "En un laboratorio de pruebas clínicas, se obtuvo un conjunto de datos con 218 observaciones de 77 pacientes con enfermedades de hígado, los pacientes se dividieron en cuatro grupos correspondientes a cuatro tipos de enfermedades hepáticas:\n",
        "1. Hepatitis viral aguda (57 pacientes)\n",
        "2. Hepatitis crónica persistente (44 pacientes)\n",
        "3. Hepatitis crónica agresiva (40 pacientes)\n",
        "4. Cirrosis posnecrótica (77 pacientes)\n",
        "\n",
        "El diagnóstico se basó en cuatro enzimas hepáticas (U / L):\n",
        "\n",
        "Aspartato aminotransferasa \t\t(X1: abrevia AST);\n",
        "Alanina aminotransferasa \t\t\t(X2: ALT);\n",
        "Glutamato deshidrogenasa \t\t(X3: GLDH);\n",
        "y Ornitina carboniltransferasa \t\t(X4: OCT).\n",
        "_______________________________________________________\n",
        "\n",
        "In a clinical testing laboratory, a data set with 218 observations from 77 patients with liver diseases was obtained. The patients were divided into four groups corresponding to four types of liver diseases:\n",
        "1. Acute viral hepatitis (57 patients)\n",
        "2. Chronic persistent hepatitis (44 patients)\n",
        "3. Aggressive chronic hepatitis (40 patients)\n",
        "4. Postnecrotic cirrhosis (77 patients)\n",
        "\n",
        "The diagnosis was based on four liver enzymes (U/L):\n",
        "\n",
        "Aspartate aminotransferase (X1: abbreviated AST);\n",
        "Alanine aminotransferase (X2: ALT);\n",
        "Glutamate dehydrogenase (X3: GLDH);\n",
        "and Ornithine carbonyltransferase (X4: OCT)."
      ]
    },
    {
      "cell_type": "code",
      "execution_count": null,
      "metadata": {
        "vscode": {
          "languageId": "r"
        },
        "id": "ABfaEhje0Fhr",
        "outputId": "3508a440-b248-45d5-9f22-e1aefef8af99"
      },
      "outputs": [
        {
          "data": {
            "text/html": [
              "<style>\n",
              ".list-inline {list-style: none; margin:0; padding: 0}\n",
              ".list-inline>li {display: inline-block}\n",
              ".list-inline>li:not(:last-child)::after {content: \"\\00b7\"; padding: 0 .5ex}\n",
              "</style>\n",
              "<ol class=list-inline><li>1</li><li>2</li><li>3</li><li>4</li></ol>\n",
              "\n",
              "<details>\n",
              "\t<summary style=display:list-item;cursor:pointer>\n",
              "\t\t<strong>Levels</strong>:\n",
              "\t</summary>\n",
              "\t<style>\n",
              "\t.list-inline {list-style: none; margin:0; padding: 0}\n",
              "\t.list-inline>li {display: inline-block}\n",
              "\t.list-inline>li:not(:last-child)::after {content: \"\\00b7\"; padding: 0 .5ex}\n",
              "\t</style>\n",
              "\t<ol class=list-inline><li>'1'</li><li>'2'</li><li>'3'</li><li>'4'</li></ol>\n",
              "</details>"
            ],
            "text/latex": [
              "\\begin{enumerate*}\n",
              "\\item 1\n",
              "\\item 2\n",
              "\\item 3\n",
              "\\item 4\n",
              "\\end{enumerate*}\n",
              "\n",
              "\\emph{Levels}: \\begin{enumerate*}\n",
              "\\item '1'\n",
              "\\item '2'\n",
              "\\item '3'\n",
              "\\item '4'\n",
              "\\end{enumerate*}\n"
            ],
            "text/markdown": [
              "1. 1\n",
              "2. 2\n",
              "3. 3\n",
              "4. 4\n",
              "\n",
              "\n",
              "\n",
              "**Levels**: 1. '1'\n",
              "2. '2'\n",
              "3. '3'\n",
              "4. '4'\n",
              "\n",
              "\n"
            ],
            "text/plain": [
              "[1] 1 2 3 4\n",
              "Levels: 1 2 3 4"
            ]
          },
          "metadata": {},
          "output_type": "display_data"
        },
        {
          "data": {
            "image/png": "[encoded data removed]",
            "text/plain": [
              "plot without title"
            ]
          },
          "metadata": {
            "image/png": {
              "height": 720,
              "width": 1200
            }
          },
          "output_type": "display_data"
        }
      ],
      "source": [
        "# Pairwise plot for initial exploration\n",
        "options(repr.plot.width = 20, repr.plot.height = 12)\n",
        "\n",
        "data <- data %>%\n",
        "    relocate(Grupo, .after = last_col()) %>%\n",
        "    mutate(Grupo = factor(Grupo))\n",
        "\n",
        "ggpairs(data, columns = 2:5, aes(color = Grupo))\n",
        "unique(data$Grupo)"
      ]
    },
    {
      "cell_type": "markdown",
      "metadata": {
        "id": "uEqCzNP90Fhr"
      },
      "source": [
        "Is it odd that group 4 present low enzime levels? I'm not a medic, my parents are, maybe they would know. Anyway, here you can see if the variables are correlated, which they aren't that much. This means that a logistic model should perform well. Since this dataset is not big, I'm not gonna fine tune on a validation set. I'll just split 80/20 train/test and hope for the best."
      ]
    },
    {
      "cell_type": "code",
      "execution_count": null,
      "metadata": {
        "vscode": {
          "languageId": "r"
        },
        "id": "0CJvOQ2R0Fhr"
      },
      "outputs": [],
      "source": [
        "set.seed(69)\n",
        "\n",
        "sample_size <- floor(0.8 * nrow(data))\n",
        "train <- sample(seq_len(nrow(data)), size = sample_size)\n",
        "trainset <- data[train, ]\n",
        "testset <- data[-train, ]\n",
        "\n",
        "trainset$Grupo <- relevel(trainset$Grupo, ref = 1)"
      ]
    },
    {
      "cell_type": "code",
      "execution_count": null,
      "metadata": {
        "vscode": {
          "languageId": "r"
        },
        "id": "hCc3DTOq0Fhr",
        "outputId": "eb26cc21-89c4-48d4-eae9-899e04230492"
      },
      "outputs": [
        {
          "name": "stdout",
          "output_type": "stream",
          "text": [
            "# weights:  24 (15 variable)\n",
            "initial  value 241.215219 \n",
            "iter  10 value 182.215520\n",
            "iter  20 value 128.729872\n",
            "iter  30 value 128.010507\n",
            "iter  40 value 128.006561\n",
            "final  value 128.006306 \n",
            "converged\n"
          ]
        },
        {
          "data": {
            "text/plain": [
              "Call:\n",
              "multinom(formula = Grupo ~ . - Paciente, data = trainset)\n",
              "\n",
              "Coefficients:\n",
              "  (Intercept)         AST          ALT        GLDH         OCT\n",
              "2   2.9959532 -0.01014032 -0.009845885 -0.04722007 0.004700647\n",
              "3  -0.3244559  0.01147447 -0.025234236  0.09640505 0.010373692\n",
              "4   1.9239615  0.01886276 -0.040516721  0.04059883 0.010583333\n",
              "\n",
              "Std. Errors:\n",
              "  (Intercept)         AST         ALT       GLDH         OCT\n",
              "2   0.7912568 0.007094039 0.003134359 0.08847737 0.003378752\n",
              "3   0.8172382 0.004010363 0.005843251 0.07774935 0.002991117\n",
              "4   0.7770042 0.004843404 0.006830018 0.07886246 0.003054660\n",
              "\n",
              "Residual Deviance: 256.0126 \n",
              "AIC: 286.0126 "
            ]
          },
          "metadata": {},
          "output_type": "display_data"
        }
      ],
      "source": [
        "#install.packages('nnet')\n",
        "require(nnet)\n",
        "\n",
        "log_mult <- multinom(Grupo ~ . - Paciente, data = trainset)\n",
        "\n",
        "summary(log_mult)\n"
      ]
    },
    {
      "cell_type": "code",
      "execution_count": null,
      "metadata": {
        "vscode": {
          "languageId": "r"
        },
        "id": "leu6AzR50Fhs",
        "outputId": "722fe605-82e0-4b30-b753-70f42efeb1ec"
      },
      "outputs": [
        {
          "data": {
            "text/html": [
              "<table class=\"dataframe\">\n",
              "<caption>A matrix: 6 × 4 of type dbl</caption>\n",
              "<thead>\n",
              "\t<tr><th></th><th scope=col>1</th><th scope=col>2</th><th scope=col>3</th><th scope=col>4</th></tr>\n",
              "</thead>\n",
              "<tbody>\n",
              "\t<tr><th scope=row>1</th><td>0.00</td><td>0.01</td><td>0.39</td><td>0.60</td></tr>\n",
              "\t<tr><th scope=row>2</th><td>0.04</td><td>0.43</td><td>0.11</td><td>0.43</td></tr>\n",
              "\t<tr><th scope=row>3</th><td>0.00</td><td>0.00</td><td>0.32</td><td>0.67</td></tr>\n",
              "\t<tr><th scope=row>4</th><td>0.28</td><td>0.03</td><td>0.59</td><td>0.10</td></tr>\n",
              "\t<tr><th scope=row>5</th><td>0.03</td><td>0.12</td><td>0.46</td><td>0.39</td></tr>\n",
              "\t<tr><th scope=row>6</th><td>0.00</td><td>0.00</td><td>0.66</td><td>0.34</td></tr>\n",
              "</tbody>\n",
              "</table>\n"
            ],
            "text/latex": [
              "A matrix: 6 × 4 of type dbl\n",
              "\\begin{tabular}{r|llll}\n",
              "  & 1 & 2 & 3 & 4\\\\\n",
              "\\hline\n",
              "\t1 & 0.00 & 0.01 & 0.39 & 0.60\\\\\n",
              "\t2 & 0.04 & 0.43 & 0.11 & 0.43\\\\\n",
              "\t3 & 0.00 & 0.00 & 0.32 & 0.67\\\\\n",
              "\t4 & 0.28 & 0.03 & 0.59 & 0.10\\\\\n",
              "\t5 & 0.03 & 0.12 & 0.46 & 0.39\\\\\n",
              "\t6 & 0.00 & 0.00 & 0.66 & 0.34\\\\\n",
              "\\end{tabular}\n"
            ],
            "text/markdown": [
              "\n",
              "A matrix: 6 × 4 of type dbl\n",
              "\n",
              "| <!--/--> | 1 | 2 | 3 | 4 |\n",
              "|---|---|---|---|---|\n",
              "| 1 | 0.00 | 0.01 | 0.39 | 0.60 |\n",
              "| 2 | 0.04 | 0.43 | 0.11 | 0.43 |\n",
              "| 3 | 0.00 | 0.00 | 0.32 | 0.67 |\n",
              "| 4 | 0.28 | 0.03 | 0.59 | 0.10 |\n",
              "| 5 | 0.03 | 0.12 | 0.46 | 0.39 |\n",
              "| 6 | 0.00 | 0.00 | 0.66 | 0.34 |\n",
              "\n"
            ],
            "text/plain": [
              "  1    2    3    4   \n",
              "1 0.00 0.01 0.39 0.60\n",
              "2 0.04 0.43 0.11 0.43\n",
              "3 0.00 0.00 0.32 0.67\n",
              "4 0.28 0.03 0.59 0.10\n",
              "5 0.03 0.12 0.46 0.39\n",
              "6 0.00 0.00 0.66 0.34"
            ]
          },
          "metadata": {},
          "output_type": "display_data"
        },
        {
          "name": "stdout",
          "output_type": "stream",
          "text": [
            " num [1:174, 1:4] 0 0.04 0 0.28 0.03 0 0.01 0.02 0.01 0.82 ...\n",
            " - attr(*, \"dimnames\")=List of 2\n",
            "  ..$ : chr [1:174] \"1\" \"2\" \"3\" \"4\" ...\n",
            "  ..$ : chr [1:4] \"1\" \"2\" \"3\" \"4\"\n"
          ]
        }
      ],
      "source": [
        "head(round(fitted(log_mult), 2))\n",
        "str(round(fitted(log_mult), 2))"
      ]
    },
    {
      "cell_type": "code",
      "execution_count": null,
      "metadata": {
        "vscode": {
          "languageId": "r"
        },
        "id": "NsIiDzyO0Fhs",
        "outputId": "c9216d1f-92fb-4fbe-b2f3-86e87b6d3ab8"
      },
      "outputs": [
        {
          "data": {
            "text/html": [
              "0.795454545454545"
            ],
            "text/latex": [
              "0.795454545454545"
            ],
            "text/markdown": [
              "0.795454545454545"
            ],
            "text/plain": [
              "[1] 0.7954545"
            ]
          },
          "metadata": {},
          "output_type": "display_data"
        },
        {
          "data": {
            "text/html": [
              "0.781609195402299"
            ],
            "text/latex": [
              "0.781609195402299"
            ],
            "text/markdown": [
              "0.781609195402299"
            ],
            "text/plain": [
              "[1] 0.7816092"
            ]
          },
          "metadata": {},
          "output_type": "display_data"
        }
      ],
      "source": [
        "preds <- predict(log_mult, newdata = testset, 'class')\n",
        "\n",
        "# Accuracy for testset and trainset respectively\n",
        "mean(preds == testset$Grupo)\n",
        "mean(predict(log_mult, trainset, 'class') == trainset$Grupo)"
      ]
    },
    {
      "cell_type": "code",
      "execution_count": null,
      "metadata": {
        "vscode": {
          "languageId": "r"
        },
        "id": "3Xz5R-fh0Fhs",
        "outputId": "a0574a4a-ee46-452d-8a7a-ae495a0a2905"
      },
      "outputs": [
        {
          "data": {
            "text/plain": [
              "   preds\n",
              "     1  2  3  4\n",
              "  1  9  3  2  0\n",
              "  2  0  7  0  0\n",
              "  3  0  1  4  2\n",
              "  4  0  1  0 15"
            ]
          },
          "metadata": {},
          "output_type": "display_data"
        },
        {
          "name": "stdout",
          "output_type": "stream",
          "text": [
            " 'table' int [1:4, 1:4] 9 0 0 0 3 7 1 1 2 0 ...\n",
            " - attr(*, \"dimnames\")=List of 2\n",
            "  ..$      : chr [1:4] \"1\" \"2\" \"3\" \"4\"\n",
            "  ..$ preds: chr [1:4] \"1\" \"2\" \"3\" \"4\"\n"
          ]
        }
      ],
      "source": [
        "conf_mat <- table(testset$Grupo, preds)\n",
        "\n",
        "conf_mat\n",
        "str(conf_mat)"
      ]
    },
    {
      "cell_type": "code",
      "execution_count": null,
      "metadata": {
        "vscode": {
          "languageId": "r"
        },
        "id": "oJCFHUy70Fhs",
        "outputId": "528dc94f-ac18-4145-8783-4cfba4f61dac"
      },
      "outputs": [
        {
          "data": {
            "text/html": [
              "<table class=\"dataframe\">\n",
              "<caption>A data.frame: 6 × 3</caption>\n",
              "<thead>\n",
              "\t<tr><th></th><th scope=col>Var1</th><th scope=col>preds</th><th scope=col>Freq</th></tr>\n",
              "\t<tr><th></th><th scope=col>&lt;fct&gt;</th><th scope=col>&lt;fct&gt;</th><th scope=col>&lt;int&gt;</th></tr>\n",
              "</thead>\n",
              "<tbody>\n",
              "\t<tr><th scope=row>1</th><td>1</td><td>1</td><td>9</td></tr>\n",
              "\t<tr><th scope=row>2</th><td>2</td><td>1</td><td>0</td></tr>\n",
              "\t<tr><th scope=row>3</th><td>3</td><td>1</td><td>0</td></tr>\n",
              "\t<tr><th scope=row>4</th><td>4</td><td>1</td><td>0</td></tr>\n",
              "\t<tr><th scope=row>5</th><td>1</td><td>2</td><td>3</td></tr>\n",
              "\t<tr><th scope=row>6</th><td>2</td><td>2</td><td>7</td></tr>\n",
              "</tbody>\n",
              "</table>\n"
            ],
            "text/latex": [
              "A data.frame: 6 × 3\n",
              "\\begin{tabular}{r|lll}\n",
              "  & Var1 & preds & Freq\\\\\n",
              "  & <fct> & <fct> & <int>\\\\\n",
              "\\hline\n",
              "\t1 & 1 & 1 & 9\\\\\n",
              "\t2 & 2 & 1 & 0\\\\\n",
              "\t3 & 3 & 1 & 0\\\\\n",
              "\t4 & 4 & 1 & 0\\\\\n",
              "\t5 & 1 & 2 & 3\\\\\n",
              "\t6 & 2 & 2 & 7\\\\\n",
              "\\end{tabular}\n"
            ],
            "text/markdown": [
              "\n",
              "A data.frame: 6 × 3\n",
              "\n",
              "| <!--/--> | Var1 &lt;fct&gt; | preds &lt;fct&gt; | Freq &lt;int&gt; |\n",
              "|---|---|---|---|\n",
              "| 1 | 1 | 1 | 9 |\n",
              "| 2 | 2 | 1 | 0 |\n",
              "| 3 | 3 | 1 | 0 |\n",
              "| 4 | 4 | 1 | 0 |\n",
              "| 5 | 1 | 2 | 3 |\n",
              "| 6 | 2 | 2 | 7 |\n",
              "\n"
            ],
            "text/plain": [
              "  Var1 preds Freq\n",
              "1 1    1     9   \n",
              "2 2    1     0   \n",
              "3 3    1     0   \n",
              "4 4    1     0   \n",
              "5 1    2     3   \n",
              "6 2    2     7   "
            ]
          },
          "metadata": {},
          "output_type": "display_data"
        }
      ],
      "source": [
        "conf_df <- as.data.frame(conf_mat)\n",
        "\n",
        "head(conf_df)"
      ]
    },
    {
      "cell_type": "code",
      "execution_count": null,
      "metadata": {
        "vscode": {
          "languageId": "r"
        },
        "id": "IHPsln4N0Fhs",
        "outputId": "fea4c26d-b94c-4d74-ec1c-e387c18f4f41"
      },
      "outputs": [
        {
          "data": {
            "image/png": "[encoded data removed]",
            "text/plain": [
              "plot without title"
            ]
          },
          "metadata": {
            "image/png": {
              "height": 720,
              "width": 1200
            }
          },
          "output_type": "display_data"
        }
      ],
      "source": [
        "# Plot confusion matrix using ggplot, I like this one better than seaborn's\n",
        "ggplot(conf_df, aes(x = Var1 , y = preds, fill = Freq)) +\n",
        "    geom_tile(color = 'white') +\n",
        "    scale_fill_gradient(low = \"lightgray\", high = \"red\", breaks = seq(min(conf_df$Freq), max(conf_df$Freq), by = 2)) +\n",
        "    geom_text(aes(label = Freq), vjust = 1, size = 10) +\n",
        "    theme_minimal() +\n",
        "    labs(title = 'Confusion Matrix', x = 'Actual Value', y = 'Predicted Value', fill = \"Frequency\") +\n",
        "    scale_y_discrete(limits = rev(levels(conf_df$preds))) +\n",
        "    ggtitle(\"Confusion Matrix for Test Data\") +\n",
        "    theme(plot.title = element_text(hjust = 0.5, size = 40),\n",
        "        axis.text = element_text(size = 25),  # Adjust the size parameter as needed\n",
        "        axis.title = element_text(size = 25),\n",
        "        legend.title = element_text(size = 18))"
      ]
    },
    {
      "cell_type": "markdown",
      "metadata": {
        "id": "ngIV2ZOG0Fhs"
      },
      "source": [
        "Using fitted() gives different probabilities than using predict(), the accuracy remains the same. I'll use predict() in order to plot the ROC curves for each class later."
      ]
    },
    {
      "cell_type": "code",
      "execution_count": null,
      "metadata": {
        "vscode": {
          "languageId": "r"
        },
        "id": "s4vKJ_PJ0Fhs",
        "outputId": "2d5f1391-78a8-4e23-eacd-c46d789f0377"
      },
      "outputs": [
        {
          "data": {
            "text/html": [
              "<table class=\"dataframe\">\n",
              "<caption>A data.frame: 44 × 11</caption>\n",
              "<thead>\n",
              "\t<tr><th></th><th scope=col>Paciente</th><th scope=col>AST</th><th scope=col>ALT</th><th scope=col>GLDH</th><th scope=col>OCT</th><th scope=col>P(1)</th><th scope=col>P(2)</th><th scope=col>P(3)</th><th scope=col>P(4)</th><th scope=col>Grupo</th><th scope=col>pred_Group</th></tr>\n",
              "\t<tr><th></th><th scope=col>&lt;dbl&gt;</th><th scope=col>&lt;dbl&gt;</th><th scope=col>&lt;dbl&gt;</th><th scope=col>&lt;dbl&gt;</th><th scope=col>&lt;dbl&gt;</th><th scope=col>&lt;dbl&gt;</th><th scope=col>&lt;dbl&gt;</th><th scope=col>&lt;dbl&gt;</th><th scope=col>&lt;dbl&gt;</th><th scope=col>&lt;fct&gt;</th><th scope=col>&lt;fct&gt;</th></tr>\n",
              "</thead>\n",
              "<tbody>\n",
              "\t<tr><th scope=row>1</th><td> 2</td><td>  65</td><td> 258</td><td>20</td><td> 242</td><td>0.45</td><td>0.45</td><td>0.09</td><td>0.01</td><td>1</td><td>1</td></tr>\n",
              "\t<tr><th scope=row>2</th><td> 3</td><td>  59</td><td> 244</td><td>16</td><td> 236</td><td>0.38</td><td>0.54</td><td>0.06</td><td>0.01</td><td>1</td><td>2</td></tr>\n",
              "\t<tr><th scope=row>3</th><td> 4</td><td>  92</td><td> 120</td><td> 6</td><td> 205</td><td>0.09</td><td>0.45</td><td>0.14</td><td>0.32</td><td>1</td><td>2</td></tr>\n",
              "\t<tr><th scope=row>4</th><td> 7</td><td> 202</td><td> 429</td><td>15</td><td> 715</td><td>0.38</td><td>0.21</td><td>0.40</td><td>0.01</td><td>1</td><td>3</td></tr>\n",
              "\t<tr><th scope=row>5</th><td>14</td><td> 308</td><td>1243</td><td> 9</td><td> 470</td><td>1.00</td><td>0.00</td><td>0.00</td><td>0.00</td><td>1</td><td>1</td></tr>\n",
              "\t<tr><th scope=row>6</th><td>16</td><td> 196</td><td> 760</td><td>18</td><td> 249</td><td>1.00</td><td>0.00</td><td>0.00</td><td>0.00</td><td>1</td><td>1</td></tr>\n",
              "\t<tr><th scope=row>7</th><td>17</td><td> 141</td><td> 550</td><td>24</td><td> 610</td><td>0.88</td><td>0.11</td><td>0.02</td><td>0.00</td><td>1</td><td>1</td></tr>\n",
              "\t<tr><th scope=row>8</th><td>19</td><td> 569</td><td>1354</td><td>24</td><td> 996</td><td>1.00</td><td>0.00</td><td>0.00</td><td>0.00</td><td>1</td><td>1</td></tr>\n",
              "\t<tr><th scope=row>9</th><td>23</td><td> 165</td><td> 330</td><td>21</td><td> 402</td><td>0.51</td><td>0.18</td><td>0.29</td><td>0.02</td><td>1</td><td>1</td></tr>\n",
              "\t<tr><th scope=row>10</th><td>34</td><td> 129</td><td> 704</td><td>14</td><td> 225</td><td>0.99</td><td>0.01</td><td>0.00</td><td>0.00</td><td>1</td><td>1</td></tr>\n",
              "\t<tr><th scope=row>11</th><td>40</td><td> 170</td><td> 620</td><td>13</td><td> 318</td><td>0.98</td><td>0.02</td><td>0.00</td><td>0.00</td><td>1</td><td>1</td></tr>\n",
              "\t<tr><th scope=row>12</th><td>44</td><td> 340</td><td> 840</td><td>12</td><td> 680</td><td>1.00</td><td>0.00</td><td>0.00</td><td>0.00</td><td>1</td><td>1</td></tr>\n",
              "\t<tr><th scope=row>13</th><td>45</td><td> 660</td><td>1287</td><td>21</td><td>4100</td><td>0.00</td><td>0.00</td><td>1.00</td><td>0.00</td><td>1</td><td>3</td></tr>\n",
              "\t<tr><th scope=row>14</th><td>57</td><td> 123</td><td> 231</td><td>11</td><td> 323</td><td>0.28</td><td>0.44</td><td>0.20</td><td>0.08</td><td>1</td><td>2</td></tr>\n",
              "\t<tr><th scope=row>15</th><td> 2</td><td>  40</td><td>  52</td><td> 5</td><td>  79</td><td>0.06</td><td>0.56</td><td>0.07</td><td>0.31</td><td>2</td><td>2</td></tr>\n",
              "\t<tr><th scope=row>16</th><td> 7</td><td>  50</td><td>  59</td><td> 9</td><td>  63</td><td>0.08</td><td>0.46</td><td>0.10</td><td>0.35</td><td>2</td><td>2</td></tr>\n",
              "\t<tr><th scope=row>17</th><td>13</td><td>  29</td><td>  44</td><td> 4</td><td>  28</td><td>0.07</td><td>0.66</td><td>0.05</td><td>0.23</td><td>2</td><td>2</td></tr>\n",
              "\t<tr><th scope=row>18</th><td>16</td><td>  28</td><td>  68</td><td> 5</td><td>  41</td><td>0.10</td><td>0.72</td><td>0.04</td><td>0.14</td><td>2</td><td>2</td></tr>\n",
              "\t<tr><th scope=row>19</th><td>21</td><td>  26</td><td>  41</td><td> 5</td><td>  54</td><td>0.06</td><td>0.61</td><td>0.06</td><td>0.27</td><td>2</td><td>2</td></tr>\n",
              "\t<tr><th scope=row>20</th><td>22</td><td>  39</td><td>  84</td><td> 5</td><td>  55</td><td>0.12</td><td>0.71</td><td>0.05</td><td>0.12</td><td>2</td><td>2</td></tr>\n",
              "\t<tr><th scope=row>21</th><td>38</td><td>  83</td><td> 101</td><td> 5</td><td> 195</td><td>0.07</td><td>0.44</td><td>0.12</td><td>0.37</td><td>2</td><td>2</td></tr>\n",
              "\t<tr><th scope=row>22</th><td> 4</td><td>  99</td><td> 224</td><td>21</td><td> 294</td><td>0.27</td><td>0.32</td><td>0.34</td><td>0.07</td><td>3</td><td>3</td></tr>\n",
              "\t<tr><th scope=row>23</th><td>14</td><td>  50</td><td>  89</td><td>15</td><td> 162</td><td>0.07</td><td>0.37</td><td>0.22</td><td>0.34</td><td>3</td><td>2</td></tr>\n",
              "\t<tr><th scope=row>24</th><td>18</td><td>  74</td><td> 115</td><td>24</td><td> 513</td><td>0.00</td><td>0.03</td><td>0.53</td><td>0.44</td><td>3</td><td>3</td></tr>\n",
              "\t<tr><th scope=row>25</th><td>22</td><td> 115</td><td>  58</td><td>13</td><td> 381</td><td>0.00</td><td>0.02</td><td>0.17</td><td>0.81</td><td>3</td><td>4</td></tr>\n",
              "\t<tr><th scope=row>26</th><td>25</td><td> 660</td><td> 418</td><td>28</td><td>1515</td><td>0.00</td><td>0.00</td><td>0.62</td><td>0.38</td><td>3</td><td>3</td></tr>\n",
              "\t<tr><th scope=row>27</th><td>27</td><td>  86</td><td>  52</td><td>18</td><td> 687</td><td>0.00</td><td>0.00</td><td>0.23</td><td>0.77</td><td>3</td><td>4</td></tr>\n",
              "\t<tr><th scope=row>28</th><td>34</td><td>2298</td><td>1310</td><td>43</td><td>4928</td><td>0.00</td><td>0.00</td><td>0.90</td><td>0.10</td><td>3</td><td>3</td></tr>\n",
              "\t<tr><th scope=row>29</th><td> 2</td><td>  42</td><td>  24</td><td> 4</td><td>  51</td><td>0.04</td><td>0.43</td><td>0.06</td><td>0.46</td><td>4</td><td>4</td></tr>\n",
              "\t<tr><th scope=row>30</th><td> 7</td><td>  45</td><td>  26</td><td> 3</td><td>  18</td><td>0.05</td><td>0.49</td><td>0.05</td><td>0.40</td><td>4</td><td>2</td></tr>\n",
              "\t<tr><th scope=row>31</th><td>10</td><td>  91</td><td>  64</td><td> 9</td><td> 159</td><td>0.03</td><td>0.17</td><td>0.15</td><td>0.65</td><td>4</td><td>4</td></tr>\n",
              "\t<tr><th scope=row>32</th><td>11</td><td> 106</td><td>  61</td><td>12</td><td> 171</td><td>0.02</td><td>0.08</td><td>0.17</td><td>0.73</td><td>4</td><td>4</td></tr>\n",
              "\t<tr><th scope=row>33</th><td>13</td><td> 101</td><td>  57</td><td> 7</td><td> 103</td><td>0.04</td><td>0.18</td><td>0.12</td><td>0.67</td><td>4</td><td>4</td></tr>\n",
              "\t<tr><th scope=row>34</th><td>15</td><td>  93</td><td>  78</td><td>21</td><td> 312</td><td>0.01</td><td>0.03</td><td>0.33</td><td>0.63</td><td>4</td><td>4</td></tr>\n",
              "\t<tr><th scope=row>35</th><td>20</td><td>  72</td><td>  31</td><td> 7</td><td> 120</td><td>0.02</td><td>0.18</td><td>0.10</td><td>0.70</td><td>4</td><td>4</td></tr>\n",
              "\t<tr><th scope=row>36</th><td>28</td><td> 118</td><td>  84</td><td>14</td><td> 207</td><td>0.02</td><td>0.07</td><td>0.23</td><td>0.68</td><td>4</td><td>4</td></tr>\n",
              "\t<tr><th scope=row>37</th><td>29</td><td>  42</td><td>  22</td><td> 4</td><td>  66</td><td>0.03</td><td>0.40</td><td>0.07</td><td>0.50</td><td>4</td><td>4</td></tr>\n",
              "\t<tr><th scope=row>38</th><td>39</td><td>  80</td><td>  85</td><td>12</td><td> 204</td><td>0.04</td><td>0.22</td><td>0.21</td><td>0.53</td><td>4</td><td>4</td></tr>\n",
              "\t<tr><th scope=row>39</th><td>42</td><td>  47</td><td>  29</td><td> 8</td><td>  36</td><td>0.05</td><td>0.36</td><td>0.09</td><td>0.50</td><td>4</td><td>4</td></tr>\n",
              "\t<tr><th scope=row>40</th><td>44</td><td> 187</td><td> 163</td><td>15</td><td> 501</td><td>0.01</td><td>0.02</td><td>0.39</td><td>0.59</td><td>4</td><td>4</td></tr>\n",
              "\t<tr><th scope=row>41</th><td>46</td><td>  48</td><td>  23</td><td> 6</td><td> 138</td><td>0.02</td><td>0.25</td><td>0.09</td><td>0.64</td><td>4</td><td>4</td></tr>\n",
              "\t<tr><th scope=row>42</th><td>47</td><td> 119</td><td>  62</td><td>18</td><td> 288</td><td>0.00</td><td>0.02</td><td>0.22</td><td>0.76</td><td>4</td><td>4</td></tr>\n",
              "\t<tr><th scope=row>43</th><td>50</td><td> 121</td><td>  79</td><td> 7</td><td> 184</td><td>0.03</td><td>0.13</td><td>0.14</td><td>0.70</td><td>4</td><td>4</td></tr>\n",
              "\t<tr><th scope=row>44</th><td>63</td><td>  55</td><td>  34</td><td> 5</td><td>  51</td><td>0.05</td><td>0.39</td><td>0.08</td><td>0.49</td><td>4</td><td>4</td></tr>\n",
              "</tbody>\n",
              "</table>\n"
            ],
            "text/latex": [
              "A data.frame: 44 × 11\n",
              "\\begin{tabular}{r|lllllllllll}\n",
              "  & Paciente & AST & ALT & GLDH & OCT & P(1) & P(2) & P(3) & P(4) & Grupo & pred\\_Group\\\\\n",
              "  & <dbl> & <dbl> & <dbl> & <dbl> & <dbl> & <dbl> & <dbl> & <dbl> & <dbl> & <fct> & <fct>\\\\\n",
              "\\hline\n",
              "\t1 &  2 &   65 &  258 & 20 &  242 & 0.45 & 0.45 & 0.09 & 0.01 & 1 & 1\\\\\n",
              "\t2 &  3 &   59 &  244 & 16 &  236 & 0.38 & 0.54 & 0.06 & 0.01 & 1 & 2\\\\\n",
              "\t3 &  4 &   92 &  120 &  6 &  205 & 0.09 & 0.45 & 0.14 & 0.32 & 1 & 2\\\\\n",
              "\t4 &  7 &  202 &  429 & 15 &  715 & 0.38 & 0.21 & 0.40 & 0.01 & 1 & 3\\\\\n",
              "\t5 & 14 &  308 & 1243 &  9 &  470 & 1.00 & 0.00 & 0.00 & 0.00 & 1 & 1\\\\\n",
              "\t6 & 16 &  196 &  760 & 18 &  249 & 1.00 & 0.00 & 0.00 & 0.00 & 1 & 1\\\\\n",
              "\t7 & 17 &  141 &  550 & 24 &  610 & 0.88 & 0.11 & 0.02 & 0.00 & 1 & 1\\\\\n",
              "\t8 & 19 &  569 & 1354 & 24 &  996 & 1.00 & 0.00 & 0.00 & 0.00 & 1 & 1\\\\\n",
              "\t9 & 23 &  165 &  330 & 21 &  402 & 0.51 & 0.18 & 0.29 & 0.02 & 1 & 1\\\\\n",
              "\t10 & 34 &  129 &  704 & 14 &  225 & 0.99 & 0.01 & 0.00 & 0.00 & 1 & 1\\\\\n",
              "\t11 & 40 &  170 &  620 & 13 &  318 & 0.98 & 0.02 & 0.00 & 0.00 & 1 & 1\\\\\n",
              "\t12 & 44 &  340 &  840 & 12 &  680 & 1.00 & 0.00 & 0.00 & 0.00 & 1 & 1\\\\\n",
              "\t13 & 45 &  660 & 1287 & 21 & 4100 & 0.00 & 0.00 & 1.00 & 0.00 & 1 & 3\\\\\n",
              "\t14 & 57 &  123 &  231 & 11 &  323 & 0.28 & 0.44 & 0.20 & 0.08 & 1 & 2\\\\\n",
              "\t15 &  2 &   40 &   52 &  5 &   79 & 0.06 & 0.56 & 0.07 & 0.31 & 2 & 2\\\\\n",
              "\t16 &  7 &   50 &   59 &  9 &   63 & 0.08 & 0.46 & 0.10 & 0.35 & 2 & 2\\\\\n",
              "\t17 & 13 &   29 &   44 &  4 &   28 & 0.07 & 0.66 & 0.05 & 0.23 & 2 & 2\\\\\n",
              "\t18 & 16 &   28 &   68 &  5 &   41 & 0.10 & 0.72 & 0.04 & 0.14 & 2 & 2\\\\\n",
              "\t19 & 21 &   26 &   41 &  5 &   54 & 0.06 & 0.61 & 0.06 & 0.27 & 2 & 2\\\\\n",
              "\t20 & 22 &   39 &   84 &  5 &   55 & 0.12 & 0.71 & 0.05 & 0.12 & 2 & 2\\\\\n",
              "\t21 & 38 &   83 &  101 &  5 &  195 & 0.07 & 0.44 & 0.12 & 0.37 & 2 & 2\\\\\n",
              "\t22 &  4 &   99 &  224 & 21 &  294 & 0.27 & 0.32 & 0.34 & 0.07 & 3 & 3\\\\\n",
              "\t23 & 14 &   50 &   89 & 15 &  162 & 0.07 & 0.37 & 0.22 & 0.34 & 3 & 2\\\\\n",
              "\t24 & 18 &   74 &  115 & 24 &  513 & 0.00 & 0.03 & 0.53 & 0.44 & 3 & 3\\\\\n",
              "\t25 & 22 &  115 &   58 & 13 &  381 & 0.00 & 0.02 & 0.17 & 0.81 & 3 & 4\\\\\n",
              "\t26 & 25 &  660 &  418 & 28 & 1515 & 0.00 & 0.00 & 0.62 & 0.38 & 3 & 3\\\\\n",
              "\t27 & 27 &   86 &   52 & 18 &  687 & 0.00 & 0.00 & 0.23 & 0.77 & 3 & 4\\\\\n",
              "\t28 & 34 & 2298 & 1310 & 43 & 4928 & 0.00 & 0.00 & 0.90 & 0.10 & 3 & 3\\\\\n",
              "\t29 &  2 &   42 &   24 &  4 &   51 & 0.04 & 0.43 & 0.06 & 0.46 & 4 & 4\\\\\n",
              "\t30 &  7 &   45 &   26 &  3 &   18 & 0.05 & 0.49 & 0.05 & 0.40 & 4 & 2\\\\\n",
              "\t31 & 10 &   91 &   64 &  9 &  159 & 0.03 & 0.17 & 0.15 & 0.65 & 4 & 4\\\\\n",
              "\t32 & 11 &  106 &   61 & 12 &  171 & 0.02 & 0.08 & 0.17 & 0.73 & 4 & 4\\\\\n",
              "\t33 & 13 &  101 &   57 &  7 &  103 & 0.04 & 0.18 & 0.12 & 0.67 & 4 & 4\\\\\n",
              "\t34 & 15 &   93 &   78 & 21 &  312 & 0.01 & 0.03 & 0.33 & 0.63 & 4 & 4\\\\\n",
              "\t35 & 20 &   72 &   31 &  7 &  120 & 0.02 & 0.18 & 0.10 & 0.70 & 4 & 4\\\\\n",
              "\t36 & 28 &  118 &   84 & 14 &  207 & 0.02 & 0.07 & 0.23 & 0.68 & 4 & 4\\\\\n",
              "\t37 & 29 &   42 &   22 &  4 &   66 & 0.03 & 0.40 & 0.07 & 0.50 & 4 & 4\\\\\n",
              "\t38 & 39 &   80 &   85 & 12 &  204 & 0.04 & 0.22 & 0.21 & 0.53 & 4 & 4\\\\\n",
              "\t39 & 42 &   47 &   29 &  8 &   36 & 0.05 & 0.36 & 0.09 & 0.50 & 4 & 4\\\\\n",
              "\t40 & 44 &  187 &  163 & 15 &  501 & 0.01 & 0.02 & 0.39 & 0.59 & 4 & 4\\\\\n",
              "\t41 & 46 &   48 &   23 &  6 &  138 & 0.02 & 0.25 & 0.09 & 0.64 & 4 & 4\\\\\n",
              "\t42 & 47 &  119 &   62 & 18 &  288 & 0.00 & 0.02 & 0.22 & 0.76 & 4 & 4\\\\\n",
              "\t43 & 50 &  121 &   79 &  7 &  184 & 0.03 & 0.13 & 0.14 & 0.70 & 4 & 4\\\\\n",
              "\t44 & 63 &   55 &   34 &  5 &   51 & 0.05 & 0.39 & 0.08 & 0.49 & 4 & 4\\\\\n",
              "\\end{tabular}\n"
            ],
            "text/markdown": [
              "\n",
              "A data.frame: 44 × 11\n",
              "\n",
              "| <!--/--> | Paciente &lt;dbl&gt; | AST &lt;dbl&gt; | ALT &lt;dbl&gt; | GLDH &lt;dbl&gt; | OCT &lt;dbl&gt; | P(1) &lt;dbl&gt; | P(2) &lt;dbl&gt; | P(3) &lt;dbl&gt; | P(4) &lt;dbl&gt; | Grupo &lt;fct&gt; | pred_Group &lt;fct&gt; |\n",
              "|---|---|---|---|---|---|---|---|---|---|---|---|\n",
              "| 1 |  2 |   65 |  258 | 20 |  242 | 0.45 | 0.45 | 0.09 | 0.01 | 1 | 1 |\n",
              "| 2 |  3 |   59 |  244 | 16 |  236 | 0.38 | 0.54 | 0.06 | 0.01 | 1 | 2 |\n",
              "| 3 |  4 |   92 |  120 |  6 |  205 | 0.09 | 0.45 | 0.14 | 0.32 | 1 | 2 |\n",
              "| 4 |  7 |  202 |  429 | 15 |  715 | 0.38 | 0.21 | 0.40 | 0.01 | 1 | 3 |\n",
              "| 5 | 14 |  308 | 1243 |  9 |  470 | 1.00 | 0.00 | 0.00 | 0.00 | 1 | 1 |\n",
              "| 6 | 16 |  196 |  760 | 18 |  249 | 1.00 | 0.00 | 0.00 | 0.00 | 1 | 1 |\n",
              "| 7 | 17 |  141 |  550 | 24 |  610 | 0.88 | 0.11 | 0.02 | 0.00 | 1 | 1 |\n",
              "| 8 | 19 |  569 | 1354 | 24 |  996 | 1.00 | 0.00 | 0.00 | 0.00 | 1 | 1 |\n",
              "| 9 | 23 |  165 |  330 | 21 |  402 | 0.51 | 0.18 | 0.29 | 0.02 | 1 | 1 |\n",
              "| 10 | 34 |  129 |  704 | 14 |  225 | 0.99 | 0.01 | 0.00 | 0.00 | 1 | 1 |\n",
              "| 11 | 40 |  170 |  620 | 13 |  318 | 0.98 | 0.02 | 0.00 | 0.00 | 1 | 1 |\n",
              "| 12 | 44 |  340 |  840 | 12 |  680 | 1.00 | 0.00 | 0.00 | 0.00 | 1 | 1 |\n",
              "| 13 | 45 |  660 | 1287 | 21 | 4100 | 0.00 | 0.00 | 1.00 | 0.00 | 1 | 3 |\n",
              "| 14 | 57 |  123 |  231 | 11 |  323 | 0.28 | 0.44 | 0.20 | 0.08 | 1 | 2 |\n",
              "| 15 |  2 |   40 |   52 |  5 |   79 | 0.06 | 0.56 | 0.07 | 0.31 | 2 | 2 |\n",
              "| 16 |  7 |   50 |   59 |  9 |   63 | 0.08 | 0.46 | 0.10 | 0.35 | 2 | 2 |\n",
              "| 17 | 13 |   29 |   44 |  4 |   28 | 0.07 | 0.66 | 0.05 | 0.23 | 2 | 2 |\n",
              "| 18 | 16 |   28 |   68 |  5 |   41 | 0.10 | 0.72 | 0.04 | 0.14 | 2 | 2 |\n",
              "| 19 | 21 |   26 |   41 |  5 |   54 | 0.06 | 0.61 | 0.06 | 0.27 | 2 | 2 |\n",
              "| 20 | 22 |   39 |   84 |  5 |   55 | 0.12 | 0.71 | 0.05 | 0.12 | 2 | 2 |\n",
              "| 21 | 38 |   83 |  101 |  5 |  195 | 0.07 | 0.44 | 0.12 | 0.37 | 2 | 2 |\n",
              "| 22 |  4 |   99 |  224 | 21 |  294 | 0.27 | 0.32 | 0.34 | 0.07 | 3 | 3 |\n",
              "| 23 | 14 |   50 |   89 | 15 |  162 | 0.07 | 0.37 | 0.22 | 0.34 | 3 | 2 |\n",
              "| 24 | 18 |   74 |  115 | 24 |  513 | 0.00 | 0.03 | 0.53 | 0.44 | 3 | 3 |\n",
              "| 25 | 22 |  115 |   58 | 13 |  381 | 0.00 | 0.02 | 0.17 | 0.81 | 3 | 4 |\n",
              "| 26 | 25 |  660 |  418 | 28 | 1515 | 0.00 | 0.00 | 0.62 | 0.38 | 3 | 3 |\n",
              "| 27 | 27 |   86 |   52 | 18 |  687 | 0.00 | 0.00 | 0.23 | 0.77 | 3 | 4 |\n",
              "| 28 | 34 | 2298 | 1310 | 43 | 4928 | 0.00 | 0.00 | 0.90 | 0.10 | 3 | 3 |\n",
              "| 29 |  2 |   42 |   24 |  4 |   51 | 0.04 | 0.43 | 0.06 | 0.46 | 4 | 4 |\n",
              "| 30 |  7 |   45 |   26 |  3 |   18 | 0.05 | 0.49 | 0.05 | 0.40 | 4 | 2 |\n",
              "| 31 | 10 |   91 |   64 |  9 |  159 | 0.03 | 0.17 | 0.15 | 0.65 | 4 | 4 |\n",
              "| 32 | 11 |  106 |   61 | 12 |  171 | 0.02 | 0.08 | 0.17 | 0.73 | 4 | 4 |\n",
              "| 33 | 13 |  101 |   57 |  7 |  103 | 0.04 | 0.18 | 0.12 | 0.67 | 4 | 4 |\n",
              "| 34 | 15 |   93 |   78 | 21 |  312 | 0.01 | 0.03 | 0.33 | 0.63 | 4 | 4 |\n",
              "| 35 | 20 |   72 |   31 |  7 |  120 | 0.02 | 0.18 | 0.10 | 0.70 | 4 | 4 |\n",
              "| 36 | 28 |  118 |   84 | 14 |  207 | 0.02 | 0.07 | 0.23 | 0.68 | 4 | 4 |\n",
              "| 37 | 29 |   42 |   22 |  4 |   66 | 0.03 | 0.40 | 0.07 | 0.50 | 4 | 4 |\n",
              "| 38 | 39 |   80 |   85 | 12 |  204 | 0.04 | 0.22 | 0.21 | 0.53 | 4 | 4 |\n",
              "| 39 | 42 |   47 |   29 |  8 |   36 | 0.05 | 0.36 | 0.09 | 0.50 | 4 | 4 |\n",
              "| 40 | 44 |  187 |  163 | 15 |  501 | 0.01 | 0.02 | 0.39 | 0.59 | 4 | 4 |\n",
              "| 41 | 46 |   48 |   23 |  6 |  138 | 0.02 | 0.25 | 0.09 | 0.64 | 4 | 4 |\n",
              "| 42 | 47 |  119 |   62 | 18 |  288 | 0.00 | 0.02 | 0.22 | 0.76 | 4 | 4 |\n",
              "| 43 | 50 |  121 |   79 |  7 |  184 | 0.03 | 0.13 | 0.14 | 0.70 | 4 | 4 |\n",
              "| 44 | 63 |   55 |   34 |  5 |   51 | 0.05 | 0.39 | 0.08 | 0.49 | 4 | 4 |\n",
              "\n"
            ],
            "text/plain": [
              "   Paciente AST  ALT  GLDH OCT  P(1) P(2) P(3) P(4) Grupo pred_Group\n",
              "1   2         65  258 20    242 0.45 0.45 0.09 0.01 1     1         \n",
              "2   3         59  244 16    236 0.38 0.54 0.06 0.01 1     2         \n",
              "3   4         92  120  6    205 0.09 0.45 0.14 0.32 1     2         \n",
              "4   7        202  429 15    715 0.38 0.21 0.40 0.01 1     3         \n",
              "5  14        308 1243  9    470 1.00 0.00 0.00 0.00 1     1         \n",
              "6  16        196  760 18    249 1.00 0.00 0.00 0.00 1     1         \n",
              "7  17        141  550 24    610 0.88 0.11 0.02 0.00 1     1         \n",
              "8  19        569 1354 24    996 1.00 0.00 0.00 0.00 1     1         \n",
              "9  23        165  330 21    402 0.51 0.18 0.29 0.02 1     1         \n",
              "10 34        129  704 14    225 0.99 0.01 0.00 0.00 1     1         \n",
              "11 40        170  620 13    318 0.98 0.02 0.00 0.00 1     1         \n",
              "12 44        340  840 12    680 1.00 0.00 0.00 0.00 1     1         \n",
              "13 45        660 1287 21   4100 0.00 0.00 1.00 0.00 1     3         \n",
              "14 57        123  231 11    323 0.28 0.44 0.20 0.08 1     2         \n",
              "15  2         40   52  5     79 0.06 0.56 0.07 0.31 2     2         \n",
              "16  7         50   59  9     63 0.08 0.46 0.10 0.35 2     2         \n",
              "17 13         29   44  4     28 0.07 0.66 0.05 0.23 2     2         \n",
              "18 16         28   68  5     41 0.10 0.72 0.04 0.14 2     2         \n",
              "19 21         26   41  5     54 0.06 0.61 0.06 0.27 2     2         \n",
              "20 22         39   84  5     55 0.12 0.71 0.05 0.12 2     2         \n",
              "21 38         83  101  5    195 0.07 0.44 0.12 0.37 2     2         \n",
              "22  4         99  224 21    294 0.27 0.32 0.34 0.07 3     3         \n",
              "23 14         50   89 15    162 0.07 0.37 0.22 0.34 3     2         \n",
              "24 18         74  115 24    513 0.00 0.03 0.53 0.44 3     3         \n",
              "25 22        115   58 13    381 0.00 0.02 0.17 0.81 3     4         \n",
              "26 25        660  418 28   1515 0.00 0.00 0.62 0.38 3     3         \n",
              "27 27         86   52 18    687 0.00 0.00 0.23 0.77 3     4         \n",
              "28 34       2298 1310 43   4928 0.00 0.00 0.90 0.10 3     3         \n",
              "29  2         42   24  4     51 0.04 0.43 0.06 0.46 4     4         \n",
              "30  7         45   26  3     18 0.05 0.49 0.05 0.40 4     2         \n",
              "31 10         91   64  9    159 0.03 0.17 0.15 0.65 4     4         \n",
              "32 11        106   61 12    171 0.02 0.08 0.17 0.73 4     4         \n",
              "33 13        101   57  7    103 0.04 0.18 0.12 0.67 4     4         \n",
              "34 15         93   78 21    312 0.01 0.03 0.33 0.63 4     4         \n",
              "35 20         72   31  7    120 0.02 0.18 0.10 0.70 4     4         \n",
              "36 28        118   84 14    207 0.02 0.07 0.23 0.68 4     4         \n",
              "37 29         42   22  4     66 0.03 0.40 0.07 0.50 4     4         \n",
              "38 39         80   85 12    204 0.04 0.22 0.21 0.53 4     4         \n",
              "39 42         47   29  8     36 0.05 0.36 0.09 0.50 4     4         \n",
              "40 44        187  163 15    501 0.01 0.02 0.39 0.59 4     4         \n",
              "41 46         48   23  6    138 0.02 0.25 0.09 0.64 4     4         \n",
              "42 47        119   62 18    288 0.00 0.02 0.22 0.76 4     4         \n",
              "43 50        121   79  7    184 0.03 0.13 0.14 0.70 4     4         \n",
              "44 63         55   34  5     51 0.05 0.39 0.08 0.49 4     4         "
            ]
          },
          "metadata": {},
          "output_type": "display_data"
        },
        {
          "data": {
            "text/html": [
              "0.795454545454545"
            ],
            "text/latex": [
              "0.795454545454545"
            ],
            "text/markdown": [
              "0.795454545454545"
            ],
            "text/plain": [
              "[1] 0.7954545"
            ]
          },
          "metadata": {},
          "output_type": "display_data"
        }
      ],
      "source": [
        "#probs_test <- round(fitted(log_mult, testset), 2)\n",
        "probs_test <- round(predict(log_mult, newdata = testset, type = 'probs'), 2)\n",
        "\n",
        "mat <- probs_test[1:44, ]\n",
        "\n",
        "test_with_preds <- testset %>%\n",
        "    mutate(pred_Group = preds) %>%\n",
        "    cbind(mat) %>%\n",
        "    rename('P(1)' = '1', 'P(2)' = '2', 'P(3)' = '3', 'P(4)' = '4') %>%\n",
        "    relocate(c(Grupo, pred_Group), .after = last_col())\n",
        "\n",
        "test_with_preds\n",
        "mean(test_with_preds$Grupo == test_with_preds$pred_Group)\n"
      ]
    },
    {
      "cell_type": "markdown",
      "metadata": {
        "id": "Cph-5pDV0Fhs"
      },
      "source": [
        "Accuracy is around 80% for the testset predictions. Given that this is a small dataset, we won't tune the model any further."
      ]
    },
    {
      "cell_type": "code",
      "execution_count": null,
      "metadata": {
        "vscode": {
          "languageId": "r"
        },
        "id": "X0gag1lh0Fhs",
        "outputId": "929054c9-1880-4272-8eae-d6fa2eb6ea82"
      },
      "outputs": [
        {
          "name": "stdout",
          "output_type": "stream",
          "text": [
            "'data.frame':\t174 obs. of  11 variables:\n",
            " $ Paciente  : num  68 34 29 11 3 64 26 10 71 6 ...\n",
            " $ AST       : num  175 42 91 266 120 141 132 49 71 87 ...\n",
            " $ ALT       : num  134 53 52 316 163 78 72 51 42 380 ...\n",
            " $ GLDH      : num  21 7 27 23 16 53 11 13 9 7 ...\n",
            " $ OCT       : num  516 147 513 364 396 924 237 198 225 92 ...\n",
            " $ P(1)      : num  0 0.04 0 0.28 0.03 0 0.01 0.02 0.01 0.82 ...\n",
            " $ P(2)      : num  0.01 0.43 0 0.03 0.12 0 0.04 0.2 0.12 0.18 ...\n",
            " $ P(3)      : num  0.39 0.11 0.32 0.59 0.46 0.66 0.16 0.19 0.14 0 ...\n",
            " $ P(4)      : num  0.6 0.43 0.67 0.1 0.39 0.34 0.78 0.59 0.73 0 ...\n",
            " $ Grupo     : Factor w/ 4 levels \"1\",\"2\",\"3\",\"4\": 4 2 3 3 3 4 4 3 4 1 ...\n",
            " $ pred_Group: Factor w/ 4 levels \"1\",\"2\",\"3\",\"4\": 4 4 4 3 3 3 4 4 4 1 ...\n"
          ]
        },
        {
          "data": {
            "text/html": [
              "0.781609195402299"
            ],
            "text/latex": [
              "0.781609195402299"
            ],
            "text/markdown": [
              "0.781609195402299"
            ],
            "text/plain": [
              "[1] 0.7816092"
            ]
          },
          "metadata": {},
          "output_type": "display_data"
        },
        {
          "data": {
            "text/html": [
              "<table class=\"dataframe\">\n",
              "<caption>A data.frame: 6 × 11</caption>\n",
              "<thead>\n",
              "\t<tr><th></th><th scope=col>Paciente</th><th scope=col>AST</th><th scope=col>ALT</th><th scope=col>GLDH</th><th scope=col>OCT</th><th scope=col>P(1)</th><th scope=col>P(2)</th><th scope=col>P(3)</th><th scope=col>P(4)</th><th scope=col>Grupo</th><th scope=col>pred_Group</th></tr>\n",
              "\t<tr><th></th><th scope=col>&lt;dbl&gt;</th><th scope=col>&lt;dbl&gt;</th><th scope=col>&lt;dbl&gt;</th><th scope=col>&lt;dbl&gt;</th><th scope=col>&lt;dbl&gt;</th><th scope=col>&lt;dbl&gt;</th><th scope=col>&lt;dbl&gt;</th><th scope=col>&lt;dbl&gt;</th><th scope=col>&lt;dbl&gt;</th><th scope=col>&lt;fct&gt;</th><th scope=col>&lt;fct&gt;</th></tr>\n",
              "</thead>\n",
              "<tbody>\n",
              "\t<tr><th scope=row>1</th><td>68</td><td>175</td><td>134</td><td>21</td><td>516</td><td>0.00</td><td>0.01</td><td>0.39</td><td>0.60</td><td>4</td><td>4</td></tr>\n",
              "\t<tr><th scope=row>2</th><td>34</td><td> 42</td><td> 53</td><td> 7</td><td>147</td><td>0.04</td><td>0.43</td><td>0.11</td><td>0.43</td><td>2</td><td>4</td></tr>\n",
              "\t<tr><th scope=row>3</th><td>29</td><td> 91</td><td> 52</td><td>27</td><td>513</td><td>0.00</td><td>0.00</td><td>0.32</td><td>0.67</td><td>3</td><td>4</td></tr>\n",
              "\t<tr><th scope=row>4</th><td>11</td><td>266</td><td>316</td><td>23</td><td>364</td><td>0.28</td><td>0.03</td><td>0.59</td><td>0.10</td><td>3</td><td>3</td></tr>\n",
              "\t<tr><th scope=row>5</th><td> 3</td><td>120</td><td>163</td><td>16</td><td>396</td><td>0.03</td><td>0.12</td><td>0.46</td><td>0.39</td><td>3</td><td>3</td></tr>\n",
              "\t<tr><th scope=row>6</th><td>64</td><td>141</td><td> 78</td><td>53</td><td>924</td><td>0.00</td><td>0.00</td><td>0.66</td><td>0.34</td><td>4</td><td>3</td></tr>\n",
              "</tbody>\n",
              "</table>\n"
            ],
            "text/latex": [
              "A data.frame: 6 × 11\n",
              "\\begin{tabular}{r|lllllllllll}\n",
              "  & Paciente & AST & ALT & GLDH & OCT & P(1) & P(2) & P(3) & P(4) & Grupo & pred\\_Group\\\\\n",
              "  & <dbl> & <dbl> & <dbl> & <dbl> & <dbl> & <dbl> & <dbl> & <dbl> & <dbl> & <fct> & <fct>\\\\\n",
              "\\hline\n",
              "\t1 & 68 & 175 & 134 & 21 & 516 & 0.00 & 0.01 & 0.39 & 0.60 & 4 & 4\\\\\n",
              "\t2 & 34 &  42 &  53 &  7 & 147 & 0.04 & 0.43 & 0.11 & 0.43 & 2 & 4\\\\\n",
              "\t3 & 29 &  91 &  52 & 27 & 513 & 0.00 & 0.00 & 0.32 & 0.67 & 3 & 4\\\\\n",
              "\t4 & 11 & 266 & 316 & 23 & 364 & 0.28 & 0.03 & 0.59 & 0.10 & 3 & 3\\\\\n",
              "\t5 &  3 & 120 & 163 & 16 & 396 & 0.03 & 0.12 & 0.46 & 0.39 & 3 & 3\\\\\n",
              "\t6 & 64 & 141 &  78 & 53 & 924 & 0.00 & 0.00 & 0.66 & 0.34 & 4 & 3\\\\\n",
              "\\end{tabular}\n"
            ],
            "text/markdown": [
              "\n",
              "A data.frame: 6 × 11\n",
              "\n",
              "| <!--/--> | Paciente &lt;dbl&gt; | AST &lt;dbl&gt; | ALT &lt;dbl&gt; | GLDH &lt;dbl&gt; | OCT &lt;dbl&gt; | P(1) &lt;dbl&gt; | P(2) &lt;dbl&gt; | P(3) &lt;dbl&gt; | P(4) &lt;dbl&gt; | Grupo &lt;fct&gt; | pred_Group &lt;fct&gt; |\n",
              "|---|---|---|---|---|---|---|---|---|---|---|---|\n",
              "| 1 | 68 | 175 | 134 | 21 | 516 | 0.00 | 0.01 | 0.39 | 0.60 | 4 | 4 |\n",
              "| 2 | 34 |  42 |  53 |  7 | 147 | 0.04 | 0.43 | 0.11 | 0.43 | 2 | 4 |\n",
              "| 3 | 29 |  91 |  52 | 27 | 513 | 0.00 | 0.00 | 0.32 | 0.67 | 3 | 4 |\n",
              "| 4 | 11 | 266 | 316 | 23 | 364 | 0.28 | 0.03 | 0.59 | 0.10 | 3 | 3 |\n",
              "| 5 |  3 | 120 | 163 | 16 | 396 | 0.03 | 0.12 | 0.46 | 0.39 | 3 | 3 |\n",
              "| 6 | 64 | 141 |  78 | 53 | 924 | 0.00 | 0.00 | 0.66 | 0.34 | 4 | 3 |\n",
              "\n"
            ],
            "text/plain": [
              "  Paciente AST ALT GLDH OCT P(1) P(2) P(3) P(4) Grupo pred_Group\n",
              "1 68       175 134 21   516 0.00 0.01 0.39 0.60 4     4         \n",
              "2 34        42  53  7   147 0.04 0.43 0.11 0.43 2     4         \n",
              "3 29        91  52 27   513 0.00 0.00 0.32 0.67 3     4         \n",
              "4 11       266 316 23   364 0.28 0.03 0.59 0.10 3     3         \n",
              "5  3       120 163 16   396 0.03 0.12 0.46 0.39 3     3         \n",
              "6 64       141  78 53   924 0.00 0.00 0.66 0.34 4     3         "
            ]
          },
          "metadata": {},
          "output_type": "display_data"
        }
      ],
      "source": [
        "probs_train <- round(fitted(log_mult, trainset), 2)\n",
        "preds_train <- predict(log_mult, newdata = trainset, 'class')\n",
        "mat_train <- probs_train[1:174, ]\n",
        "\n",
        "train_with_preds <- trainset %>%\n",
        "    mutate(pred_Group = preds_train) %>%\n",
        "    cbind(mat_train) %>%\n",
        "    rename('P(1)' = '1', 'P(2)' = '2', 'P(3)' = '3', 'P(4)' = '4') %>%\n",
        "    relocate(c(Grupo, pred_Group), .after = last_col())\n",
        "\n",
        "str(train_with_preds)\n",
        "mean(train_with_preds$Grupo == train_with_preds$pred_Group)\n",
        "\n",
        "head(train_with_preds)\n"
      ]
    },
    {
      "cell_type": "code",
      "execution_count": null,
      "metadata": {
        "vscode": {
          "languageId": "r"
        },
        "id": "V61elxse0Fht",
        "outputId": "75b05235-1242-4ff4-a2fb-84cc46dfc787"
      },
      "outputs": [
        {
          "name": "stderr",
          "output_type": "stream",
          "text": [
            "Setting levels: control = 0, case = 1\n",
            "\n",
            "Setting direction: controls < cases\n",
            "\n",
            "Setting levels: control = 0, case = 1\n",
            "\n",
            "Setting direction: controls < cases\n",
            "\n",
            "Setting levels: control = 0, case = 1\n",
            "\n",
            "Setting direction: controls < cases\n",
            "\n",
            "Setting levels: control = 0, case = 1\n",
            "\n",
            "Setting direction: controls < cases\n",
            "\n"
          ]
        }
      ],
      "source": [
        "#install.packages('pROC')\n",
        "library(pROC)\n",
        "\n",
        "roc_list <- lapply(1:ncol(mat), function(i) {\n",
        "  roc(response = ifelse(testset$Grupo == levels(testset$Grupo)[i], 1, 0),\n",
        "      predictor = mat[, i])\n",
        "})\n",
        "\n",
        "roc_data <- do.call(rbind, lapply(1:length(roc_list), function(i) {\n",
        "  data.frame(\n",
        "    FPR = roc_list[[i]]$specificities,\n",
        "    TPR = roc_list[[i]]$sensitivities,\n",
        "    Class = levels(testset$Grupo)[i]\n",
        "  )\n",
        "}))"
      ]
    },
    {
      "cell_type": "code",
      "execution_count": null,
      "metadata": {
        "vscode": {
          "languageId": "r"
        },
        "id": "RZ82qmft0Fht",
        "outputId": "79a5a25d-8e6f-4e12-95cb-36ac13f8c74f"
      },
      "outputs": [
        {
          "data": {
            "image/png": "[encoded data removed]",
            "text/plain": [
              "Plot with title \"Multinomial Logistic Regression ROC Curve\""
            ]
          },
          "metadata": {
            "image/png": {
              "height": 720,
              "width": 1200
            }
          },
          "output_type": "display_data"
        }
      ],
      "source": [
        "plot(roc_list[[1]], col = \"red\", main = \"Multinomial Logistic Regression ROC Curve\")\n",
        "for (i in 2:length(roc_list)) {\n",
        "  lines(roc_list[[i]], col = rainbow(length(roc_list))[i], lwd = 10)\n",
        "}\n",
        "\n",
        "legend(\"bottomright\", legend = c(\"Group 1\", \"Group 2\", \"Group 3\", \"Group 4\"), col = c(\"red\", rainbow(length(roc_list))[-1]), lwd = 2)"
      ]
    },
    {
      "cell_type": "code",
      "execution_count": null,
      "metadata": {
        "vscode": {
          "languageId": "r"
        },
        "id": "doe_126V0Fht",
        "outputId": "b4f10fcb-1e2d-4adb-e999-4676b69a4f3d"
      },
      "outputs": [
        {
          "name": "stderr",
          "output_type": "stream",
          "text": [
            "Setting levels: control = 0, case = 1\n",
            "\n",
            "Setting direction: controls < cases\n",
            "\n",
            "Setting levels: control = 0, case = 1\n",
            "\n",
            "Setting direction: controls < cases\n",
            "\n",
            "Setting levels: control = 0, case = 1\n",
            "\n",
            "Setting direction: controls < cases\n",
            "\n",
            "Setting levels: control = 0, case = 1\n",
            "\n",
            "Setting direction: controls < cases\n",
            "\n"
          ]
        },
        {
          "data": {
            "text/html": [
              "<style>\n",
              ".list-inline {list-style: none; margin:0; padding: 0}\n",
              ".list-inline>li {display: inline-block}\n",
              ".list-inline>li:not(:last-child)::after {content: \"\\00b7\"; padding: 0 .5ex}\n",
              "</style>\n",
              "<ol class=list-inline><li>0.928571428571429</li><li>0.974903474903475</li><li>0.893822393822394</li><li>0.926339285714286</li></ol>\n"
            ],
            "text/latex": [
              "\\begin{enumerate*}\n",
              "\\item 0.928571428571429\n",
              "\\item 0.974903474903475\n",
              "\\item 0.893822393822394\n",
              "\\item 0.926339285714286\n",
              "\\end{enumerate*}\n"
            ],
            "text/markdown": [
              "1. 0.928571428571429\n",
              "2. 0.974903474903475\n",
              "3. 0.893822393822394\n",
              "4. 0.926339285714286\n",
              "\n",
              "\n"
            ],
            "text/plain": [
              "[1] 0.9285714 0.9749035 0.8938224 0.9263393"
            ]
          },
          "metadata": {},
          "output_type": "display_data"
        },
        {
          "data": {
            "text/html": [
              "0.930909145752896"
            ],
            "text/latex": [
              "0.930909145752896"
            ],
            "text/markdown": [
              "0.930909145752896"
            ],
            "text/plain": [
              "[1] 0.9309091"
            ]
          },
          "metadata": {},
          "output_type": "display_data"
        },
        {
          "data": {
            "text/plain": [
              "\n",
              "Call:\n",
              "multiclass.roc.default(response = testset$Grupo, predictor = mat)\n",
              "\n",
              "Data: multivariate predictor mat with 4 levels of testset$Grupo: 1, 2, 3, 4.\n",
              "Multi-class area under the curve: 0.93"
            ]
          },
          "metadata": {},
          "output_type": "display_data"
        }
      ],
      "source": [
        "auc_values <- sapply(1:ncol(mat), function(i) {\n",
        "  auc(roc(response = ifelse(testset$Grupo == levels(testset$Grupo)[i], 1, 0),\n",
        "          predictor = mat[, i]))\n",
        "})\n",
        "\n",
        "auc_values\n",
        "mean(auc_values)\n",
        "\n",
        "roc_multi <- multiclass.roc(testset$Grupo, mat)\n",
        "\n",
        "roc_multi"
      ]
    },
    {
      "cell_type": "markdown",
      "metadata": {
        "id": "o9Hg2Cj-0Fht"
      },
      "source": [
        "It's a good classifier given that the trainset wasn't big. ROC and AUC score for each class is high, the model performs the worst for class 3. I also plotted ROC using ggplot but it looked awkward, pROC library already gives a great option to plot with specificities on the x axis, which I like. I got the same accuracy using python, however, it was not as straightforward as in R and ROC curves are not the same.   "
      ]
    }
  ],
  "metadata": {
    "kernelspec": {
      "display_name": "R",
      "language": "R",
      "name": "ir"
    },
    "language_info": {
      "codemirror_mode": "r",
      "file_extension": ".r",
      "mimetype": "text/x-r-source",
      "name": "R",
      "pygments_lexer": "r",
      "version": "4.2.2"
    },
    "colab": {
      "provenance": []
    }
  },
  "nbformat": 4,
  "nbformat_minor": 0
}